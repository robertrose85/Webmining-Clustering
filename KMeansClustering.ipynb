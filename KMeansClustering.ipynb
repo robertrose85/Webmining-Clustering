{
  "nbformat": 4,
  "nbformat_minor": 0,
  "metadata": {
    "colab": {
      "name": "KMeansClustering.ipynb",
      "provenance": [],
      "mount_file_id": "1Z4IP7rGYtYkyDNYjltTSO5MxR8WTAhe_",
      "authorship_tag": "ABX9TyPCFGpNaqX/NZMlhzWFS48T",
      "include_colab_link": true
    },
    "kernelspec": {
      "name": "python3",
      "display_name": "Python 3"
    },
    "language_info": {
      "name": "python"
    }
  },
  "cells": [
    {
      "cell_type": "markdown",
      "metadata": {
        "id": "view-in-github",
        "colab_type": "text"
      },
      "source": [
        "<a href=\"https://colab.research.google.com/github/robertrose85/Webmining-Clustering/blob/main/KMeansClustering.ipynb\" target=\"_parent\"><img src=\"https://colab.research.google.com/assets/colab-badge.svg\" alt=\"Open In Colab\"/></a>"
      ]
    },
    {
      "cell_type": "code",
      "metadata": {
        "colab": {
          "base_uri": "https://localhost:8080/"
        },
        "id": "1GVYqq44nPLi",
        "outputId": "79ba0f8e-7181-420e-e7e8-704de03e3101"
      },
      "source": [
        "!pip install sklearn"
      ],
      "execution_count": null,
      "outputs": [
        {
          "output_type": "stream",
          "text": [
            "Requirement already satisfied: sklearn in /usr/local/lib/python3.7/dist-packages (0.0)\n",
            "Requirement already satisfied: scikit-learn in /usr/local/lib/python3.7/dist-packages (from sklearn) (0.22.2.post1)\n",
            "Requirement already satisfied: numpy>=1.11.0 in /usr/local/lib/python3.7/dist-packages (from scikit-learn->sklearn) (1.19.5)\n",
            "Requirement already satisfied: joblib>=0.11 in /usr/local/lib/python3.7/dist-packages (from scikit-learn->sklearn) (1.0.1)\n",
            "Requirement already satisfied: scipy>=0.17.0 in /usr/local/lib/python3.7/dist-packages (from scikit-learn->sklearn) (1.4.1)\n"
          ],
          "name": "stdout"
        }
      ]
    },
    {
      "cell_type": "markdown",
      "metadata": {
        "id": "XNPlO2JB56N8"
      },
      "source": [
        "There are a ton of statistics for NFL players that go well beyond the typical yardage, touchdown total, receiving total, etc. For each position there are some advanced metrics that can tell a lot about a players ability that the normal stats simply ignore. For an NFL wide receiver, if you follow the sport, you probably know they catch the pass from the QB. Each caught pass is a reception and the distance from the line of scrimmage (where the ball is at the beginning of the play) to the point the wide receiver is brought down counts as yardage for both the wide receiver and the quarterback.\n",
        "\n",
        "Let me give you an example that might help. The ball is on the 10 yard line. The play starts, the quarterback passes to the wide receiver who catches it at the 20 yard line, but he is finally tackled at the 30 yard line where the play ends. Despite where the wide receiver catches the ball, this is considered a 20 yard pass reception. But a lot can happen in those 10 yards between where the receiver catches the ball, and where they are finally brought down.\n",
        "\n",
        "Introducing, Yards After Catch or YAC. This is a measurement of a players distance they travel once they catch the ball. This can tell you a lot about a player such as their speed, quickness, athletic ability, and even intelligence.\n",
        "\n",
        "Not every wide receiver is built the same, and not every wide receiver can do the same as the next. So let's take a look at some of the YAC stats from 2020 and see if we can break down \"types\" of wide receivers."
      ]
    },
    {
      "cell_type": "code",
      "metadata": {
        "id": "VN7ySkkQ2ycw"
      },
      "source": [
        "from sklearn.preprocessing import MinMaxScaler\n",
        "\n",
        "import pandas as pd\n",
        "import sklearn as sk\n",
        "import numpy as np\n",
        "import matplotlib.pyplot as plt"
      ],
      "execution_count": null,
      "outputs": []
    },
    {
      "cell_type": "markdown",
      "metadata": {
        "id": "vNyoHO_L7iWf"
      },
      "source": [
        "To start, let's leave out wide receivers with less than 30 catches. 30 catches comes out to approximately 2 catches per game."
      ]
    },
    {
      "cell_type": "code",
      "metadata": {
        "colab": {
          "base_uri": "https://localhost:8080/",
          "height": 402
        },
        "id": "lajM_cA9mmzZ",
        "outputId": "197f4fa6-74f9-43a8-a0ab-e601a3f36e1f"
      },
      "source": [
        "df = pd.read_csv('/content/drive/MyDrive/sportsref_download.csv')\n",
        "\n",
        "df = df[df['Rec'] > 30]\n",
        "df"
      ],
      "execution_count": null,
      "outputs": [
        {
          "output_type": "execute_result",
          "data": {
            "text/html": [
              "<div>\n",
              "<style scoped>\n",
              "    .dataframe tbody tr th:only-of-type {\n",
              "        vertical-align: middle;\n",
              "    }\n",
              "\n",
              "    .dataframe tbody tr th {\n",
              "        vertical-align: top;\n",
              "    }\n",
              "\n",
              "    .dataframe thead th {\n",
              "        text-align: right;\n",
              "    }\n",
              "</style>\n",
              "<table border=\"1\" class=\"dataframe\">\n",
              "  <thead>\n",
              "    <tr style=\"text-align: right;\">\n",
              "      <th></th>\n",
              "      <th>Rk</th>\n",
              "      <th>Player</th>\n",
              "      <th>Rec</th>\n",
              "      <th>YAC</th>\n",
              "      <th>YAC/R</th>\n",
              "    </tr>\n",
              "  </thead>\n",
              "  <tbody>\n",
              "    <tr>\n",
              "      <th>0</th>\n",
              "      <td>1</td>\n",
              "      <td>Stefon Diggs*+</td>\n",
              "      <td>127</td>\n",
              "      <td>464</td>\n",
              "      <td>3.7</td>\n",
              "    </tr>\n",
              "    <tr>\n",
              "      <th>1</th>\n",
              "      <td>2</td>\n",
              "      <td>Davante Adams*+</td>\n",
              "      <td>115</td>\n",
              "      <td>597</td>\n",
              "      <td>5.2</td>\n",
              "    </tr>\n",
              "    <tr>\n",
              "      <th>2</th>\n",
              "      <td>3</td>\n",
              "      <td>DeAndre Hopkins*</td>\n",
              "      <td>115</td>\n",
              "      <td>534</td>\n",
              "      <td>4.6</td>\n",
              "    </tr>\n",
              "    <tr>\n",
              "      <th>3</th>\n",
              "      <td>4</td>\n",
              "      <td>Darren Waller*</td>\n",
              "      <td>107</td>\n",
              "      <td>572</td>\n",
              "      <td>5.3</td>\n",
              "    </tr>\n",
              "    <tr>\n",
              "      <th>4</th>\n",
              "      <td>5</td>\n",
              "      <td>Travis Kelce*+</td>\n",
              "      <td>105</td>\n",
              "      <td>587</td>\n",
              "      <td>5.6</td>\n",
              "    </tr>\n",
              "    <tr>\n",
              "      <th>...</th>\n",
              "      <td>...</td>\n",
              "      <td>...</td>\n",
              "      <td>...</td>\n",
              "      <td>...</td>\n",
              "      <td>...</td>\n",
              "    </tr>\n",
              "    <tr>\n",
              "      <th>143</th>\n",
              "      <td>144</td>\n",
              "      <td>Mo Alie-Cox</td>\n",
              "      <td>31</td>\n",
              "      <td>182</td>\n",
              "      <td>5.9</td>\n",
              "    </tr>\n",
              "    <tr>\n",
              "      <th>144</th>\n",
              "      <td>145</td>\n",
              "      <td>Dan Arnold</td>\n",
              "      <td>31</td>\n",
              "      <td>173</td>\n",
              "      <td>5.6</td>\n",
              "    </tr>\n",
              "    <tr>\n",
              "      <th>145</th>\n",
              "      <td>146</td>\n",
              "      <td>Chris Herndon</td>\n",
              "      <td>31</td>\n",
              "      <td>128</td>\n",
              "      <td>4.1</td>\n",
              "    </tr>\n",
              "    <tr>\n",
              "      <th>146</th>\n",
              "      <td>147</td>\n",
              "      <td>Jalen Reagor</td>\n",
              "      <td>31</td>\n",
              "      <td>191</td>\n",
              "      <td>6.2</td>\n",
              "    </tr>\n",
              "    <tr>\n",
              "      <th>147</th>\n",
              "      <td>148</td>\n",
              "      <td>Jamaal Williams</td>\n",
              "      <td>31</td>\n",
              "      <td>219</td>\n",
              "      <td>7.1</td>\n",
              "    </tr>\n",
              "  </tbody>\n",
              "</table>\n",
              "<p>148 rows × 5 columns</p>\n",
              "</div>"
            ],
            "text/plain": [
              "      Rk            Player  Rec  YAC  YAC/R\n",
              "0      1    Stefon Diggs*+  127  464    3.7\n",
              "1      2   Davante Adams*+  115  597    5.2\n",
              "2      3  DeAndre Hopkins*  115  534    4.6\n",
              "3      4    Darren Waller*  107  572    5.3\n",
              "4      5    Travis Kelce*+  105  587    5.6\n",
              "..   ...               ...  ...  ...    ...\n",
              "143  144       Mo Alie-Cox   31  182    5.9\n",
              "144  145        Dan Arnold   31  173    5.6\n",
              "145  146     Chris Herndon   31  128    4.1\n",
              "146  147      Jalen Reagor   31  191    6.2\n",
              "147  148   Jamaal Williams   31  219    7.1\n",
              "\n",
              "[148 rows x 5 columns]"
            ]
          },
          "metadata": {
            "tags": []
          },
          "execution_count": 278
        }
      ]
    },
    {
      "cell_type": "markdown",
      "metadata": {
        "id": "WzTlmr-s7_0d"
      },
      "source": [
        "Here is the scatter plot of receptions and YAC. As you can see there is a large cluster on the low end of the graph. At first glance, i'm going to say there are 2 clusters. "
      ]
    },
    {
      "cell_type": "code",
      "metadata": {
        "colab": {
          "base_uri": "https://localhost:8080/",
          "height": 296
        },
        "id": "CwWGmsPvpFtX",
        "outputId": "d5799991-1397-4897-8bc9-95dfa84afef6"
      },
      "source": [
        "plt.scatter(df.Rec, df.YAC)\n",
        "plt.xlabel('Receptions')\n",
        "plt.ylabel('Yards After Catch (YAC)')\n",
        "\n",
        "plt.bar(df['Rec'], df['YAC'])"
      ],
      "execution_count": null,
      "outputs": [
        {
          "output_type": "execute_result",
          "data": {
            "text/plain": [
              "<BarContainer object of 148 artists>"
            ]
          },
          "metadata": {
            "tags": []
          },
          "execution_count": 279
        },
        {
          "output_type": "display_data",
          "data": {
            "image/png": "[encoded data removed]",
            "text/plain": [
              "<Figure size 432x288 with 1 Axes>"
            ]
          },
          "metadata": {
            "tags": [],
            "needs_background": "light"
          }
        }
      ]
    },
    {
      "cell_type": "code",
      "metadata": {
        "colab": {
          "base_uri": "https://localhost:8080/"
        },
        "id": "OHpiUwXoqFeF",
        "outputId": "e4308cee-4e57-4dce-c700-6f5830d883e6"
      },
      "source": [
        "km = KMeans(n_clusters=2)\n",
        "km"
      ],
      "execution_count": null,
      "outputs": [
        {
          "output_type": "execute_result",
          "data": {
            "text/plain": [
              "KMeans(algorithm='auto', copy_x=True, init='k-means++', max_iter=300,\n",
              "       n_clusters=2, n_init=10, n_jobs=None, precompute_distances='auto',\n",
              "       random_state=None, tol=0.0001, verbose=0)"
            ]
          },
          "metadata": {
            "tags": []
          },
          "execution_count": 280
        }
      ]
    },
    {
      "cell_type": "markdown",
      "metadata": {
        "id": "Qd05MDhA8gcA"
      },
      "source": [
        "Here we will create an array of predicted clusters for each receiver using sk's fit_predict function."
      ]
    },
    {
      "cell_type": "code",
      "metadata": {
        "colab": {
          "base_uri": "https://localhost:8080/"
        },
        "id": "gjoyeA7Fqaby",
        "outputId": "aaf4431a-b783-4247-8572-f632511d8e38"
      },
      "source": [
        "predicted = km.fit_predict(df[['Rec', 'YAC']])\n",
        "predicted"
      ],
      "execution_count": null,
      "outputs": [
        {
          "output_type": "execute_result",
          "data": {
            "text/plain": [
              "array([0, 0, 0, 0, 0, 0, 0, 0, 0, 0, 0, 0, 1, 0, 0, 0, 0, 0, 0, 0, 0, 0,\n",
              "       0, 0, 0, 1, 0, 1, 1, 0, 1, 0, 1, 0, 0, 0, 1, 1, 1, 1, 0, 1, 1, 0,\n",
              "       0, 1, 1, 1, 1, 0, 0, 1, 1, 1, 1, 1, 1, 1, 1, 0, 1, 0, 1, 0, 1, 0,\n",
              "       1, 1, 1, 0, 1, 1, 1, 1, 1, 1, 1, 1, 1, 0, 0, 1, 1, 1, 1, 0, 1, 1,\n",
              "       0, 1, 1, 1, 0, 1, 1, 1, 0, 1, 1, 1, 0, 1, 1, 1, 1, 1, 1, 1, 1, 1,\n",
              "       1, 1, 1, 1, 1, 1, 1, 1, 1, 1, 1, 1, 1, 1, 0, 1, 1, 1, 1, 1, 1, 1,\n",
              "       1, 1, 1, 1, 1, 1, 0, 1, 1, 1, 1, 1, 1, 1, 1, 1], dtype=int32)"
            ]
          },
          "metadata": {
            "tags": []
          },
          "execution_count": 281
        }
      ]
    },
    {
      "cell_type": "markdown",
      "metadata": {
        "id": "D_e3nymj8wKI"
      },
      "source": [
        "Let's append the predicted cluster to the dataframe so that we can see who might belong to each."
      ]
    },
    {
      "cell_type": "code",
      "metadata": {
        "colab": {
          "base_uri": "https://localhost:8080/",
          "height": 402
        },
        "id": "xOL5QJm4r9L3",
        "outputId": "37bca041-2982-4507-8b68-f9444a61a975"
      },
      "source": [
        "df['Cluster'] = predicted\n",
        "df"
      ],
      "execution_count": null,
      "outputs": [
        {
          "output_type": "execute_result",
          "data": {
            "text/html": [
              "<div>\n",
              "<style scoped>\n",
              "    .dataframe tbody tr th:only-of-type {\n",
              "        vertical-align: middle;\n",
              "    }\n",
              "\n",
              "    .dataframe tbody tr th {\n",
              "        vertical-align: top;\n",
              "    }\n",
              "\n",
              "    .dataframe thead th {\n",
              "        text-align: right;\n",
              "    }\n",
              "</style>\n",
              "<table border=\"1\" class=\"dataframe\">\n",
              "  <thead>\n",
              "    <tr style=\"text-align: right;\">\n",
              "      <th></th>\n",
              "      <th>Rk</th>\n",
              "      <th>Player</th>\n",
              "      <th>Rec</th>\n",
              "      <th>YAC</th>\n",
              "      <th>YAC/R</th>\n",
              "      <th>Cluster</th>\n",
              "    </tr>\n",
              "  </thead>\n",
              "  <tbody>\n",
              "    <tr>\n",
              "      <th>0</th>\n",
              "      <td>1</td>\n",
              "      <td>Stefon Diggs*+</td>\n",
              "      <td>127</td>\n",
              "      <td>464</td>\n",
              "      <td>3.7</td>\n",
              "      <td>0</td>\n",
              "    </tr>\n",
              "    <tr>\n",
              "      <th>1</th>\n",
              "      <td>2</td>\n",
              "      <td>Davante Adams*+</td>\n",
              "      <td>115</td>\n",
              "      <td>597</td>\n",
              "      <td>5.2</td>\n",
              "      <td>0</td>\n",
              "    </tr>\n",
              "    <tr>\n",
              "      <th>2</th>\n",
              "      <td>3</td>\n",
              "      <td>DeAndre Hopkins*</td>\n",
              "      <td>115</td>\n",
              "      <td>534</td>\n",
              "      <td>4.6</td>\n",
              "      <td>0</td>\n",
              "    </tr>\n",
              "    <tr>\n",
              "      <th>3</th>\n",
              "      <td>4</td>\n",
              "      <td>Darren Waller*</td>\n",
              "      <td>107</td>\n",
              "      <td>572</td>\n",
              "      <td>5.3</td>\n",
              "      <td>0</td>\n",
              "    </tr>\n",
              "    <tr>\n",
              "      <th>4</th>\n",
              "      <td>5</td>\n",
              "      <td>Travis Kelce*+</td>\n",
              "      <td>105</td>\n",
              "      <td>587</td>\n",
              "      <td>5.6</td>\n",
              "      <td>0</td>\n",
              "    </tr>\n",
              "    <tr>\n",
              "      <th>...</th>\n",
              "      <td>...</td>\n",
              "      <td>...</td>\n",
              "      <td>...</td>\n",
              "      <td>...</td>\n",
              "      <td>...</td>\n",
              "      <td>...</td>\n",
              "    </tr>\n",
              "    <tr>\n",
              "      <th>143</th>\n",
              "      <td>144</td>\n",
              "      <td>Mo Alie-Cox</td>\n",
              "      <td>31</td>\n",
              "      <td>182</td>\n",
              "      <td>5.9</td>\n",
              "      <td>1</td>\n",
              "    </tr>\n",
              "    <tr>\n",
              "      <th>144</th>\n",
              "      <td>145</td>\n",
              "      <td>Dan Arnold</td>\n",
              "      <td>31</td>\n",
              "      <td>173</td>\n",
              "      <td>5.6</td>\n",
              "      <td>1</td>\n",
              "    </tr>\n",
              "    <tr>\n",
              "      <th>145</th>\n",
              "      <td>146</td>\n",
              "      <td>Chris Herndon</td>\n",
              "      <td>31</td>\n",
              "      <td>128</td>\n",
              "      <td>4.1</td>\n",
              "      <td>1</td>\n",
              "    </tr>\n",
              "    <tr>\n",
              "      <th>146</th>\n",
              "      <td>147</td>\n",
              "      <td>Jalen Reagor</td>\n",
              "      <td>31</td>\n",
              "      <td>191</td>\n",
              "      <td>6.2</td>\n",
              "      <td>1</td>\n",
              "    </tr>\n",
              "    <tr>\n",
              "      <th>147</th>\n",
              "      <td>148</td>\n",
              "      <td>Jamaal Williams</td>\n",
              "      <td>31</td>\n",
              "      <td>219</td>\n",
              "      <td>7.1</td>\n",
              "      <td>1</td>\n",
              "    </tr>\n",
              "  </tbody>\n",
              "</table>\n",
              "<p>148 rows × 6 columns</p>\n",
              "</div>"
            ],
            "text/plain": [
              "      Rk            Player  Rec  YAC  YAC/R  Cluster\n",
              "0      1    Stefon Diggs*+  127  464    3.7        0\n",
              "1      2   Davante Adams*+  115  597    5.2        0\n",
              "2      3  DeAndre Hopkins*  115  534    4.6        0\n",
              "3      4    Darren Waller*  107  572    5.3        0\n",
              "4      5    Travis Kelce*+  105  587    5.6        0\n",
              "..   ...               ...  ...  ...    ...      ...\n",
              "143  144       Mo Alie-Cox   31  182    5.9        1\n",
              "144  145        Dan Arnold   31  173    5.6        1\n",
              "145  146     Chris Herndon   31  128    4.1        1\n",
              "146  147      Jalen Reagor   31  191    6.2        1\n",
              "147  148   Jamaal Williams   31  219    7.1        1\n",
              "\n",
              "[148 rows x 6 columns]"
            ]
          },
          "metadata": {
            "tags": []
          },
          "execution_count": 282
        }
      ]
    },
    {
      "cell_type": "markdown",
      "metadata": {
        "id": "qbO3nwuj813j"
      },
      "source": [
        "Next let's replot so we can see where our initial analysis has taken us. As you can see, there is an awkward, near horizontal axis splitting the two clusters. While technically clustered, I don't think this tells us much."
      ]
    },
    {
      "cell_type": "code",
      "metadata": {
        "colab": {
          "base_uri": "https://localhost:8080/",
          "height": 313
        },
        "id": "5GERGcW_snRk",
        "outputId": "d3945dea-a640-4124-cefe-338876d4d4bd"
      },
      "source": [
        "df1 = df[df.Cluster==0]\n",
        "df2 = df[df.Cluster==1]\n",
        "\n",
        "plt.scatter(df1.Rec,df1.YAC,color='green')\n",
        "plt.scatter(df2.Rec,df2.YAC,color='red')\n",
        "\n",
        "plt.xlabel('Receptions')\n",
        "plt.ylabel('Yards After Catch (YAC)')\n",
        "plt.legend()\n"
      ],
      "execution_count": null,
      "outputs": [
        {
          "output_type": "stream",
          "text": [
            "No handles with labels found to put in legend.\n"
          ],
          "name": "stderr"
        },
        {
          "output_type": "execute_result",
          "data": {
            "text/plain": [
              "<matplotlib.legend.Legend at 0x7f9934284b50>"
            ]
          },
          "metadata": {
            "tags": []
          },
          "execution_count": 283
        },
        {
          "output_type": "display_data",
          "data": {
            "image/png": "[encoded data removed]",
            "text/plain": [
              "<Figure size 432x288 with 1 Axes>"
            ]
          },
          "metadata": {
            "tags": [],
            "needs_background": "light"
          }
        }
      ]
    },
    {
      "cell_type": "markdown",
      "metadata": {
        "id": "SDBSNW029LUH"
      },
      "source": [
        "First thing we can do is scale the data using the MinMaxScaler function. This will basically scale our data into a range of 0 to 1. This will help with our awkward axis."
      ]
    },
    {
      "cell_type": "code",
      "metadata": {
        "id": "qX5AwoaZymET"
      },
      "source": [
        "scaler = MinMaxScaler()\n",
        "\n",
        "scaler.fit(df[['Rec']])\n",
        "df['Rec'] = scaler.transform(df[['Rec']])\n",
        "\n",
        "scaler.fit(df[['YAC']])\n",
        "df['YAC'] = scaler.transform(df[['YAC']])"
      ],
      "execution_count": null,
      "outputs": []
    },
    {
      "cell_type": "code",
      "metadata": {
        "colab": {
          "base_uri": "https://localhost:8080/",
          "height": 282
        },
        "id": "pM-NlxuNPeOF",
        "outputId": "6b771183-2aba-4d8b-b3ff-f25e14e03204"
      },
      "source": [
        "plt.bar(df['Rec'], df['YAC'])"
      ],
      "execution_count": null,
      "outputs": [
        {
          "output_type": "execute_result",
          "data": {
            "text/plain": [
              "<BarContainer object of 148 artists>"
            ]
          },
          "metadata": {
            "tags": []
          },
          "execution_count": 285
        },
        {
          "output_type": "display_data",
          "data": {
            "image/png": "[encoded data removed]",
            "text/plain": [
              "<Figure size 432x288 with 1 Axes>"
            ]
          },
          "metadata": {
            "tags": [],
            "needs_background": "light"
          }
        }
      ]
    },
    {
      "cell_type": "code",
      "metadata": {
        "colab": {
          "base_uri": "https://localhost:8080/",
          "height": 195
        },
        "id": "-BJs1gjXzB9V",
        "outputId": "8efa8cb9-1829-4d4e-8eb5-0f45925cfab6"
      },
      "source": [
        "df.head()"
      ],
      "execution_count": null,
      "outputs": [
        {
          "output_type": "execute_result",
          "data": {
            "text/html": [
              "<div>\n",
              "<style scoped>\n",
              "    .dataframe tbody tr th:only-of-type {\n",
              "        vertical-align: middle;\n",
              "    }\n",
              "\n",
              "    .dataframe tbody tr th {\n",
              "        vertical-align: top;\n",
              "    }\n",
              "\n",
              "    .dataframe thead th {\n",
              "        text-align: right;\n",
              "    }\n",
              "</style>\n",
              "<table border=\"1\" class=\"dataframe\">\n",
              "  <thead>\n",
              "    <tr style=\"text-align: right;\">\n",
              "      <th></th>\n",
              "      <th>Rk</th>\n",
              "      <th>Player</th>\n",
              "      <th>Rec</th>\n",
              "      <th>YAC</th>\n",
              "      <th>YAC/R</th>\n",
              "      <th>Cluster</th>\n",
              "    </tr>\n",
              "  </thead>\n",
              "  <tbody>\n",
              "    <tr>\n",
              "      <th>0</th>\n",
              "      <td>1</td>\n",
              "      <td>Stefon Diggs*+</td>\n",
              "      <td>1.000000</td>\n",
              "      <td>0.592988</td>\n",
              "      <td>3.7</td>\n",
              "      <td>1</td>\n",
              "    </tr>\n",
              "    <tr>\n",
              "      <th>1</th>\n",
              "      <td>2</td>\n",
              "      <td>Davante Adams*+</td>\n",
              "      <td>0.875000</td>\n",
              "      <td>0.795732</td>\n",
              "      <td>5.2</td>\n",
              "      <td>1</td>\n",
              "    </tr>\n",
              "    <tr>\n",
              "      <th>2</th>\n",
              "      <td>3</td>\n",
              "      <td>DeAndre Hopkins*</td>\n",
              "      <td>0.875000</td>\n",
              "      <td>0.699695</td>\n",
              "      <td>4.6</td>\n",
              "      <td>1</td>\n",
              "    </tr>\n",
              "    <tr>\n",
              "      <th>3</th>\n",
              "      <td>4</td>\n",
              "      <td>Darren Waller*</td>\n",
              "      <td>0.791667</td>\n",
              "      <td>0.757622</td>\n",
              "      <td>5.3</td>\n",
              "      <td>1</td>\n",
              "    </tr>\n",
              "    <tr>\n",
              "      <th>4</th>\n",
              "      <td>5</td>\n",
              "      <td>Travis Kelce*+</td>\n",
              "      <td>0.770833</td>\n",
              "      <td>0.780488</td>\n",
              "      <td>5.6</td>\n",
              "      <td>1</td>\n",
              "    </tr>\n",
              "  </tbody>\n",
              "</table>\n",
              "</div>"
            ],
            "text/plain": [
              "   Rk            Player       Rec       YAC  YAC/R  Cluster\n",
              "0   1    Stefon Diggs*+  1.000000  0.592988    3.7        1\n",
              "1   2   Davante Adams*+  0.875000  0.795732    5.2        1\n",
              "2   3  DeAndre Hopkins*  0.875000  0.699695    4.6        1\n",
              "3   4    Darren Waller*  0.791667  0.757622    5.3        1\n",
              "4   5    Travis Kelce*+  0.770833  0.780488    5.6        1"
            ]
          },
          "metadata": {
            "tags": []
          },
          "execution_count": 261
        }
      ]
    },
    {
      "cell_type": "code",
      "metadata": {
        "colab": {
          "base_uri": "https://localhost:8080/"
        },
        "id": "ucDzipxuz0Oi",
        "outputId": "3990662b-9e5a-4565-9f82-42d99517abdc"
      },
      "source": [
        "km = KMeans(n_clusters=2)\n",
        "km"
      ],
      "execution_count": null,
      "outputs": [
        {
          "output_type": "execute_result",
          "data": {
            "text/plain": [
              "KMeans(algorithm='auto', copy_x=True, init='k-means++', max_iter=300,\n",
              "       n_clusters=2, n_init=10, n_jobs=None, precompute_distances='auto',\n",
              "       random_state=None, tol=0.0001, verbose=0)"
            ]
          },
          "metadata": {
            "tags": []
          },
          "execution_count": 262
        }
      ]
    },
    {
      "cell_type": "code",
      "metadata": {
        "colab": {
          "base_uri": "https://localhost:8080/"
        },
        "id": "NnpYxGYuz5SD",
        "outputId": "4f67b1d7-385e-4b8f-e934-7368280fea16"
      },
      "source": [
        "predicted = km.fit_predict(df[['Rec', 'YAC']])\n",
        "predicted"
      ],
      "execution_count": null,
      "outputs": [
        {
          "output_type": "execute_result",
          "data": {
            "text/plain": [
              "array([1, 1, 1, 1, 1, 1, 1, 1, 1, 1, 1, 1, 1, 1, 1, 1, 1, 1, 1, 1, 1, 1,\n",
              "       1, 1, 1, 0, 1, 1, 1, 1, 1, 1, 0, 1, 1, 1, 0, 0, 0, 0, 1, 0, 0, 0,\n",
              "       1, 0, 0, 0, 0, 0, 1, 0, 0, 0, 0, 0, 0, 0, 0, 0, 0, 1, 0, 0, 0, 0,\n",
              "       0, 0, 0, 0, 0, 0, 0, 0, 0, 0, 0, 0, 0, 0, 0, 0, 0, 0, 0, 0, 0, 0,\n",
              "       0, 0, 0, 0, 0, 0, 0, 0, 0, 0, 0, 0, 0, 0, 0, 0, 0, 0, 0, 0, 0, 0,\n",
              "       0, 0, 0, 0, 0, 0, 0, 0, 0, 0, 0, 0, 0, 0, 0, 0, 0, 0, 0, 0, 0, 0,\n",
              "       0, 0, 0, 0, 0, 0, 0, 0, 0, 0, 0, 0, 0, 0, 0, 0], dtype=int32)"
            ]
          },
          "metadata": {
            "tags": []
          },
          "execution_count": 263
        }
      ]
    },
    {
      "cell_type": "code",
      "metadata": {
        "colab": {
          "base_uri": "https://localhost:8080/"
        },
        "id": "ls8pjwAAKPnk",
        "outputId": "b4d633c8-4938-44e0-fe37-2e84a91907d8"
      },
      "source": [
        "km.cluster_centers_"
      ],
      "execution_count": null,
      "outputs": [
        {
          "output_type": "execute_result",
          "data": {
            "text/plain": [
              "array([[0.15246212, 0.23004435],\n",
              "       [0.55811404, 0.52094031]])"
            ]
          },
          "metadata": {
            "tags": []
          },
          "execution_count": 266
        }
      ]
    },
    {
      "cell_type": "code",
      "metadata": {
        "colab": {
          "base_uri": "https://localhost:8080/",
          "height": 195
        },
        "id": "y5jh5eId5Q0Y",
        "outputId": "f09c6fc2-9f15-426b-c488-ee43c107f87c"
      },
      "source": [
        "df['Cluster'] = predicted\n",
        "df.head()"
      ],
      "execution_count": null,
      "outputs": [
        {
          "output_type": "execute_result",
          "data": {
            "text/html": [
              "<div>\n",
              "<style scoped>\n",
              "    .dataframe tbody tr th:only-of-type {\n",
              "        vertical-align: middle;\n",
              "    }\n",
              "\n",
              "    .dataframe tbody tr th {\n",
              "        vertical-align: top;\n",
              "    }\n",
              "\n",
              "    .dataframe thead th {\n",
              "        text-align: right;\n",
              "    }\n",
              "</style>\n",
              "<table border=\"1\" class=\"dataframe\">\n",
              "  <thead>\n",
              "    <tr style=\"text-align: right;\">\n",
              "      <th></th>\n",
              "      <th>Rk</th>\n",
              "      <th>Player</th>\n",
              "      <th>Rec</th>\n",
              "      <th>YAC</th>\n",
              "      <th>YAC/R</th>\n",
              "      <th>Cluster</th>\n",
              "    </tr>\n",
              "  </thead>\n",
              "  <tbody>\n",
              "    <tr>\n",
              "      <th>0</th>\n",
              "      <td>1</td>\n",
              "      <td>Stefon Diggs*+</td>\n",
              "      <td>1.000000</td>\n",
              "      <td>0.592988</td>\n",
              "      <td>3.7</td>\n",
              "      <td>1</td>\n",
              "    </tr>\n",
              "    <tr>\n",
              "      <th>1</th>\n",
              "      <td>2</td>\n",
              "      <td>Davante Adams*+</td>\n",
              "      <td>0.875000</td>\n",
              "      <td>0.795732</td>\n",
              "      <td>5.2</td>\n",
              "      <td>1</td>\n",
              "    </tr>\n",
              "    <tr>\n",
              "      <th>2</th>\n",
              "      <td>3</td>\n",
              "      <td>DeAndre Hopkins*</td>\n",
              "      <td>0.875000</td>\n",
              "      <td>0.699695</td>\n",
              "      <td>4.6</td>\n",
              "      <td>1</td>\n",
              "    </tr>\n",
              "    <tr>\n",
              "      <th>3</th>\n",
              "      <td>4</td>\n",
              "      <td>Darren Waller*</td>\n",
              "      <td>0.791667</td>\n",
              "      <td>0.757622</td>\n",
              "      <td>5.3</td>\n",
              "      <td>1</td>\n",
              "    </tr>\n",
              "    <tr>\n",
              "      <th>4</th>\n",
              "      <td>5</td>\n",
              "      <td>Travis Kelce*+</td>\n",
              "      <td>0.770833</td>\n",
              "      <td>0.780488</td>\n",
              "      <td>5.6</td>\n",
              "      <td>1</td>\n",
              "    </tr>\n",
              "  </tbody>\n",
              "</table>\n",
              "</div>"
            ],
            "text/plain": [
              "   Rk            Player       Rec       YAC  YAC/R  Cluster\n",
              "0   1    Stefon Diggs*+  1.000000  0.592988    3.7        1\n",
              "1   2   Davante Adams*+  0.875000  0.795732    5.2        1\n",
              "2   3  DeAndre Hopkins*  0.875000  0.699695    4.6        1\n",
              "3   4    Darren Waller*  0.791667  0.757622    5.3        1\n",
              "4   5    Travis Kelce*+  0.770833  0.780488    5.6        1"
            ]
          },
          "metadata": {
            "tags": []
          },
          "execution_count": 267
        }
      ]
    },
    {
      "cell_type": "markdown",
      "metadata": {
        "id": "dTpSIgGH9aKs"
      },
      "source": [
        "As you can see, the axis makes a bit more sense now. The cluster no longer just splits between high YAC and low YAC, it seems to do a better job factoring in the number of receptions as well. But looking at this, I think we can drill down a bit deeper and really analyze some of these players, even the ones that maybe don't get much opportunity to play or were injured."
      ]
    },
    {
      "cell_type": "code",
      "metadata": {
        "colab": {
          "base_uri": "https://localhost:8080/",
          "height": 296
        },
        "id": "TB135w380BNT",
        "outputId": "edf46cf0-846b-4dd8-d604-523305c97490"
      },
      "source": [
        "df1 = df[df.Cluster==0]\n",
        "df2 = df[df.Cluster==1]\n",
        "\n",
        "plt.scatter(df1.Rec,df1.YAC,color='green')\n",
        "plt.scatter(df2.Rec,df2.YAC,color='red')\n",
        "\n",
        "plt.scatter(km.cluster_centers_[:,0],km.cluster_centers_[:,1],color='purple',marker='*',label='centroid')\n",
        "plt.xlabel('Receptions')\n",
        "plt.ylabel('Yards After Catch (YAC)')\n",
        "plt.legend()"
      ],
      "execution_count": null,
      "outputs": [
        {
          "output_type": "execute_result",
          "data": {
            "text/plain": [
              "<matplotlib.legend.Legend at 0x7f99348dfb50>"
            ]
          },
          "metadata": {
            "tags": []
          },
          "execution_count": 268
        },
        {
          "output_type": "display_data",
          "data": {
            "image/png": "[encoded data removed]",
            "text/plain": [
              "<Figure size 432x288 with 1 Axes>"
            ]
          },
          "metadata": {
            "tags": [],
            "needs_background": "light"
          }
        }
      ]
    },
    {
      "cell_type": "markdown",
      "metadata": {
        "id": "dxfFP92m9zyW"
      },
      "source": [
        "We're going to use the elbow method to determine the number of appropriate clusters for our data."
      ]
    },
    {
      "cell_type": "code",
      "metadata": {
        "colab": {
          "base_uri": "https://localhost:8080/"
        },
        "id": "TwMZycKlwMSF",
        "outputId": "5a2ae44f-fcde-46a4-ca5c-f000b1ada228"
      },
      "source": [
        "r = range(1,10)\n",
        "sse = []\n",
        "\n",
        "for k in r:\n",
        "  km = KMeans(n_clusters=k)\n",
        "  km.fit(df[['Rec', 'YAC']])\n",
        "  sse.append(km.inertia_) #inertia finds the sum of square error, this appends it to the instantiated list\n",
        "\n",
        "sse"
      ],
      "execution_count": null,
      "outputs": [
        {
          "output_type": "execute_result",
          "data": {
            "text/plain": [
              "[12.076091064829512,\n",
              " 5.038610979122211,\n",
              " 3.117951361405519,\n",
              " 2.47625092542673,\n",
              " 1.9493552217475079,\n",
              " 1.6249842954644684,\n",
              " 1.3105621056985024,\n",
              " 1.1537192474586098,\n",
              " 1.0262292370643873]"
            ]
          },
          "metadata": {
            "tags": []
          },
          "execution_count": 269
        }
      ]
    },
    {
      "cell_type": "markdown",
      "metadata": {
        "id": "_61nEH4Z-2tp"
      },
      "source": [
        "Something about SSE, use elbow plot and above results.\n"
      ]
    },
    {
      "cell_type": "code",
      "metadata": {
        "colab": {
          "base_uri": "https://localhost:8080/",
          "height": 296
        },
        "id": "892MKa_hyAMd",
        "outputId": "9069b5c5-9c0e-4ab4-cfba-c59b7d417d33"
      },
      "source": [
        "plt.xlabel('K')\n",
        "plt.ylabel('Sum of squared error')\n",
        "plt.plot(r,sse)"
      ],
      "execution_count": null,
      "outputs": [
        {
          "output_type": "execute_result",
          "data": {
            "text/plain": [
              "[<matplotlib.lines.Line2D at 0x7f9934572c50>]"
            ]
          },
          "metadata": {
            "tags": []
          },
          "execution_count": 270
        },
        {
          "output_type": "display_data",
          "data": {
            "image/png": "[encoded data removed]",
            "text/plain": [
              "<Figure size 432x288 with 1 Axes>"
            ]
          },
          "metadata": {
            "tags": [],
            "needs_background": "light"
          }
        }
      ]
    },
    {
      "cell_type": "code",
      "metadata": {
        "colab": {
          "base_uri": "https://localhost:8080/"
        },
        "id": "l5XQTRer0w1X",
        "outputId": "465bcee8-5690-45f7-a49e-075ae3e718bc"
      },
      "source": [
        "km = KMeans(n_clusters=5)\n",
        "km"
      ],
      "execution_count": null,
      "outputs": [
        {
          "output_type": "execute_result",
          "data": {
            "text/plain": [
              "KMeans(algorithm='auto', copy_x=True, init='k-means++', max_iter=300,\n",
              "       n_clusters=5, n_init=10, n_jobs=None, precompute_distances='auto',\n",
              "       random_state=None, tol=0.0001, verbose=0)"
            ]
          },
          "metadata": {
            "tags": []
          },
          "execution_count": 271
        }
      ]
    },
    {
      "cell_type": "code",
      "metadata": {
        "colab": {
          "base_uri": "https://localhost:8080/"
        },
        "id": "h6C98hlm09Gn",
        "outputId": "94261dc6-248e-41c6-ef44-f3c1ed917738"
      },
      "source": [
        "predicted = km.fit_predict(df[['Rec', 'YAC']])\n",
        "predicted"
      ],
      "execution_count": null,
      "outputs": [
        {
          "output_type": "execute_result",
          "data": {
            "text/plain": [
              "array([1, 1, 1, 1, 1, 1, 1, 1, 1, 1, 1, 1, 3, 1, 1, 1, 1, 1, 1, 3, 3, 3,\n",
              "       1, 3, 3, 3, 3, 3, 3, 3, 3, 3, 3, 3, 3, 3, 2, 3, 3, 3, 3, 2, 3, 3,\n",
              "       3, 2, 2, 3, 2, 3, 0, 2, 2, 2, 2, 3, 2, 2, 2, 0, 2, 0, 2, 0, 2, 0,\n",
              "       0, 2, 2, 0, 0, 2, 2, 2, 2, 2, 2, 2, 2, 0, 0, 2, 2, 0, 2, 0, 2, 4,\n",
              "       0, 0, 2, 2, 0, 2, 2, 2, 0, 2, 2, 4, 0, 0, 4, 4, 0, 4, 4, 4, 4, 4,\n",
              "       0, 0, 4, 4, 4, 4, 4, 4, 0, 4, 4, 4, 0, 4, 0, 4, 4, 4, 4, 4, 4, 4,\n",
              "       4, 4, 4, 4, 4, 4, 0, 4, 4, 4, 4, 4, 4, 4, 4, 4], dtype=int32)"
            ]
          },
          "metadata": {
            "tags": []
          },
          "execution_count": 272
        }
      ]
    },
    {
      "cell_type": "code",
      "metadata": {
        "colab": {
          "base_uri": "https://localhost:8080/",
          "height": 402
        },
        "id": "orTCrhs15SeT",
        "outputId": "29838092-6710-4d56-d9cb-402d49666d35"
      },
      "source": [
        "df['Cluster'] = predicted\n",
        "df.to_csv('clustered_players.csv')\n",
        "df"
      ],
      "execution_count": null,
      "outputs": [
        {
          "output_type": "execute_result",
          "data": {
            "text/html": [
              "<div>\n",
              "<style scoped>\n",
              "    .dataframe tbody tr th:only-of-type {\n",
              "        vertical-align: middle;\n",
              "    }\n",
              "\n",
              "    .dataframe tbody tr th {\n",
              "        vertical-align: top;\n",
              "    }\n",
              "\n",
              "    .dataframe thead th {\n",
              "        text-align: right;\n",
              "    }\n",
              "</style>\n",
              "<table border=\"1\" class=\"dataframe\">\n",
              "  <thead>\n",
              "    <tr style=\"text-align: right;\">\n",
              "      <th></th>\n",
              "      <th>Rk</th>\n",
              "      <th>Player</th>\n",
              "      <th>Rec</th>\n",
              "      <th>YAC</th>\n",
              "      <th>YAC/R</th>\n",
              "      <th>Cluster</th>\n",
              "    </tr>\n",
              "  </thead>\n",
              "  <tbody>\n",
              "    <tr>\n",
              "      <th>0</th>\n",
              "      <td>1</td>\n",
              "      <td>Stefon Diggs*+</td>\n",
              "      <td>1.000000</td>\n",
              "      <td>0.592988</td>\n",
              "      <td>3.7</td>\n",
              "      <td>1</td>\n",
              "    </tr>\n",
              "    <tr>\n",
              "      <th>1</th>\n",
              "      <td>2</td>\n",
              "      <td>Davante Adams*+</td>\n",
              "      <td>0.875000</td>\n",
              "      <td>0.795732</td>\n",
              "      <td>5.2</td>\n",
              "      <td>1</td>\n",
              "    </tr>\n",
              "    <tr>\n",
              "      <th>2</th>\n",
              "      <td>3</td>\n",
              "      <td>DeAndre Hopkins*</td>\n",
              "      <td>0.875000</td>\n",
              "      <td>0.699695</td>\n",
              "      <td>4.6</td>\n",
              "      <td>1</td>\n",
              "    </tr>\n",
              "    <tr>\n",
              "      <th>3</th>\n",
              "      <td>4</td>\n",
              "      <td>Darren Waller*</td>\n",
              "      <td>0.791667</td>\n",
              "      <td>0.757622</td>\n",
              "      <td>5.3</td>\n",
              "      <td>1</td>\n",
              "    </tr>\n",
              "    <tr>\n",
              "      <th>4</th>\n",
              "      <td>5</td>\n",
              "      <td>Travis Kelce*+</td>\n",
              "      <td>0.770833</td>\n",
              "      <td>0.780488</td>\n",
              "      <td>5.6</td>\n",
              "      <td>1</td>\n",
              "    </tr>\n",
              "    <tr>\n",
              "      <th>...</th>\n",
              "      <td>...</td>\n",
              "      <td>...</td>\n",
              "      <td>...</td>\n",
              "      <td>...</td>\n",
              "      <td>...</td>\n",
              "      <td>...</td>\n",
              "    </tr>\n",
              "    <tr>\n",
              "      <th>143</th>\n",
              "      <td>144</td>\n",
              "      <td>Mo Alie-Cox</td>\n",
              "      <td>0.000000</td>\n",
              "      <td>0.163110</td>\n",
              "      <td>5.9</td>\n",
              "      <td>4</td>\n",
              "    </tr>\n",
              "    <tr>\n",
              "      <th>144</th>\n",
              "      <td>145</td>\n",
              "      <td>Dan Arnold</td>\n",
              "      <td>0.000000</td>\n",
              "      <td>0.149390</td>\n",
              "      <td>5.6</td>\n",
              "      <td>4</td>\n",
              "    </tr>\n",
              "    <tr>\n",
              "      <th>145</th>\n",
              "      <td>146</td>\n",
              "      <td>Chris Herndon</td>\n",
              "      <td>0.000000</td>\n",
              "      <td>0.080793</td>\n",
              "      <td>4.1</td>\n",
              "      <td>4</td>\n",
              "    </tr>\n",
              "    <tr>\n",
              "      <th>146</th>\n",
              "      <td>147</td>\n",
              "      <td>Jalen Reagor</td>\n",
              "      <td>0.000000</td>\n",
              "      <td>0.176829</td>\n",
              "      <td>6.2</td>\n",
              "      <td>4</td>\n",
              "    </tr>\n",
              "    <tr>\n",
              "      <th>147</th>\n",
              "      <td>148</td>\n",
              "      <td>Jamaal Williams</td>\n",
              "      <td>0.000000</td>\n",
              "      <td>0.219512</td>\n",
              "      <td>7.1</td>\n",
              "      <td>4</td>\n",
              "    </tr>\n",
              "  </tbody>\n",
              "</table>\n",
              "<p>148 rows × 6 columns</p>\n",
              "</div>"
            ],
            "text/plain": [
              "      Rk            Player       Rec       YAC  YAC/R  Cluster\n",
              "0      1    Stefon Diggs*+  1.000000  0.592988    3.7        1\n",
              "1      2   Davante Adams*+  0.875000  0.795732    5.2        1\n",
              "2      3  DeAndre Hopkins*  0.875000  0.699695    4.6        1\n",
              "3      4    Darren Waller*  0.791667  0.757622    5.3        1\n",
              "4      5    Travis Kelce*+  0.770833  0.780488    5.6        1\n",
              "..   ...               ...       ...       ...    ...      ...\n",
              "143  144       Mo Alie-Cox  0.000000  0.163110    5.9        4\n",
              "144  145        Dan Arnold  0.000000  0.149390    5.6        4\n",
              "145  146     Chris Herndon  0.000000  0.080793    4.1        4\n",
              "146  147      Jalen Reagor  0.000000  0.176829    6.2        4\n",
              "147  148   Jamaal Williams  0.000000  0.219512    7.1        4\n",
              "\n",
              "[148 rows x 6 columns]"
            ]
          },
          "metadata": {
            "tags": []
          },
          "execution_count": 273
        }
      ]
    },
    {
      "cell_type": "code",
      "metadata": {
        "colab": {
          "base_uri": "https://localhost:8080/"
        },
        "id": "w02BR2Zp1-_l",
        "outputId": "7fa63cab-e3d8-4af0-af84-4c2873117557"
      },
      "source": [
        "km.cluster_centers_"
      ],
      "execution_count": null,
      "outputs": [
        {
          "output_type": "execute_result",
          "data": {
            "text/plain": [
              "array([[0.15541667, 0.41292683],\n",
              "       [0.69133772, 0.62122914],\n",
              "       [0.22424769, 0.19639228],\n",
              "       [0.4070216 , 0.37223351],\n",
              "       [0.04623984, 0.14277216]])"
            ]
          },
          "metadata": {
            "tags": []
          },
          "execution_count": 274
        }
      ]
    },
    {
      "cell_type": "markdown",
      "metadata": {
        "id": "Z_iXOQ97_HLF"
      },
      "source": [
        "Expand the plot to include the additional clusters. Looking at the graph it appears we have a clear partition of the types of wide receivers.\n",
        "\n",
        "In red, we have our superstars. These are the leagues top performers in volume and/or YAC. No one here would be surprising to anyone who watches the NFL.\n",
        "\n",
        "In Blue, we have our secondary guys. These players are like the superstars, but they are not the primary on their team. They see a good amount of volume and often times turn it into a decent gain with their YAC. These are most likely wide receivers again, but can be mixed in with Tight End's or Running backs.\n",
        "\n",
        "Cyan is where this get's interesting. These are low pass volume players who make the most out of the opportunities they get. These can include rookie wide receivers, maybe even slot receivers, but most likely Running Backs. Running backs generally have the skill to catch the ball and make tacklers miss, increasing their YAC. Running Backs that catch are becoming increasingly valuable in the NFL and this cluster might just show why. If you are a fantasy football player or a pro football coach, it may make sense to keep an eye on these guys as they can be stars (if they aren't already). Although, keep in mind, some of these guys can be starting players who started the season injured or became injured.\n",
        "\n",
        "In black, you have guys who get fairly low volume, and generally don't do much after the catch. This is likely where a bulk of your Tight End will fall. They can make catches at a decent amount of volume, but are typically much slower than your average wide receiver or running back.\n",
        "\n",
        "In green, again you have low volume, low YAC, this can be an indicator of receivers further down the depth chart or again, tight ends who get used in passing situations only a handful of times, or running backs who aren't known for the their pass catching prowess."
      ]
    },
    {
      "cell_type": "code",
      "metadata": {
        "colab": {
          "base_uri": "https://localhost:8080/",
          "height": 296
        },
        "id": "2bbtMrKX00Sh",
        "outputId": "89b10eda-dcc7-4008-ea52-e51bb5bb2819"
      },
      "source": [
        "df1 = df[df.Cluster==0]\n",
        "df2 = df[df.Cluster==1]\n",
        "df3 = df[df.Cluster==2]\n",
        "df4 = df[df.Cluster==3]\n",
        "df5 = df[df.Cluster==4]\n",
        "\n",
        "plt.scatter(df1.Rec,df1.YAC,color='green')\n",
        "plt.scatter(df2.Rec,df2.YAC,color='red')\n",
        "plt.scatter(df3.Rec,df3.YAC,color='black')\n",
        "plt.scatter(df4.Rec,df4.YAC,color='blue')\n",
        "plt.scatter(df5.Rec,df5.YAC,color='cyan')\n",
        "\n",
        "plt.scatter(km.cluster_centers_[:,0],km.cluster_centers_[:,1],color='purple',marker='*',label='centroid')\n",
        "plt.xlabel('Receptions')\n",
        "plt.ylabel('Yards After Catch (YAC)')\n",
        "plt.legend()"
      ],
      "execution_count": null,
      "outputs": [
        {
          "output_type": "execute_result",
          "data": {
            "text/plain": [
              "<matplotlib.legend.Legend at 0x7f99344f8d10>"
            ]
          },
          "metadata": {
            "tags": []
          },
          "execution_count": 275
        },
        {
          "output_type": "display_data",
          "data": {
            "image/png": "[encoded data removed]",
            "text/plain": [
              "<Figure size 432x288 with 1 Axes>"
            ]
          },
          "metadata": {
            "tags": [],
            "needs_background": "light"
          }
        }
      ]
    },
    {
      "cell_type": "code",
      "metadata": {
        "id": "6EaB3xzn5GKX"
      },
      "source": [
        ""
      ],
      "execution_count": null,
      "outputs": []
    }
  ]
}